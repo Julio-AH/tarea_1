{
  "nbformat": 4,
  "nbformat_minor": 0,
  "metadata": {
    "colab": {
      "name": "Copia de Untitled2.ipynb",
      "provenance": [],
      "collapsed_sections": []
    },
    "kernelspec": {
      "name": "python3",
      "display_name": "Python 3"
    }
  },
  "cells": [
    {
      "cell_type": "markdown",
      "metadata": {
        "id": "18z3DRZ3rBT9"
      },
      "source": [
        "Ejercicio 1"
      ]
    },
    {
      "cell_type": "code",
      "metadata": {
        "id": "KRI55er_q_pB",
        "outputId": "ae1e6d6a-fb9a-4733-9f18-8a23488a5961",
        "colab": {
          "base_uri": "https://localhost:8080/"
        }
      },
      "source": [
        "a= int(input(\"introduzca un numero: \"))\n",
        "if a%2==0:\n",
        "  print(\"par\")\n",
        "else:\n",
        "  print(\"impar\")"
      ],
      "execution_count": null,
      "outputs": [
        {
          "output_type": "stream",
          "text": [
            "introduzca un numero: 10\n",
            "par\n"
          ],
          "name": "stdout"
        }
      ]
    },
    {
      "cell_type": "markdown",
      "metadata": {
        "id": "KJh7z8zatBYv"
      },
      "source": [
        "Ejercicio 2"
      ]
    },
    {
      "cell_type": "code",
      "metadata": {
        "id": "fkkUtFMytEFV",
        "outputId": "0e8d038b-eae8-4e18-e256-438aefe2e61e",
        "colab": {
          "base_uri": "https://localhost:8080/"
        }
      },
      "source": [
        "a=str(input(\"introduzca un texto:   \"))\n",
        "b=int(input(\"cuantas veces:\"))\n",
        "c= ( a * b )\n",
        "print(c)\n"
      ],
      "execution_count": null,
      "outputs": [
        {
          "output_type": "stream",
          "text": [
            "introduzca un texto:   hola\n",
            "cuantas veces:        5\n",
            "holaholaholaholahola\n"
          ],
          "name": "stdout"
        }
      ]
    },
    {
      "cell_type": "markdown",
      "metadata": {
        "id": "TItbAA1myloT"
      },
      "source": [
        "Ejercicio 3\n"
      ]
    },
    {
      "cell_type": "code",
      "metadata": {
        "id": "0BWSEk7dyn7z",
        "outputId": "23bdc978-5e09-44d5-812d-a278076a224d",
        "colab": {
          "base_uri": "https://localhost:8080/"
        }
      },
      "source": [
        "def pago(val1):\n",
        "  dia=(val1*150)\n",
        "  sem=(dia*5)\n",
        "  mes=(sem*4)\n",
        "  print(\"salario por dia: \",dia)\n",
        "  print(\"salario por semana: \",sem)\n",
        "  print(\"salario por mes: \",mes)\n",
        "h= float(input(\"ingrese las horas:\"))\n",
        "pago(h)\n",
        "\n",
        "\n"
      ],
      "execution_count": null,
      "outputs": [
        {
          "output_type": "stream",
          "text": [
            "ingrese las horas:9\n",
            "salario por dia:  1350.0\n",
            "salario por semana:  6750.0\n",
            "salario por mes:  27000.0\n"
          ],
          "name": "stdout"
        }
      ]
    },
    {
      "cell_type": "markdown",
      "metadata": {
        "id": "yuoWo9KZUau_"
      },
      "source": [
        "Ejercicio 4"
      ]
    },
    {
      "cell_type": "code",
      "metadata": {
        "id": "wWgQ2_8eUdhv",
        "outputId": "2efbe3a0-811b-42a4-e8fc-f244340591b8",
        "colab": {
          "base_uri": "https://localhost:8080/"
        }
      },
      "source": [
        "\n",
        "n = str(input(\"seleccione una opcion: a = suma b = resta c = multiplicacion d = division:\"))\n",
        "if n == \"a\":\n",
        "  j = float(input(\"dame el primer valor: \"))\n",
        "  v = float(input(\"dame el segundo valor: \"))\n",
        "  print(\"es:: \",j+v)\n",
        "elif n == \"b\":\n",
        "  j = float(input(\"dame el primer valor: \"))\n",
        "  v = float(input(\"dame el segundo valor: \"))\n",
        "  print(\"es: \",j-v)\n",
        "elif n == \"c\":\n",
        "  j = float(input(\"dame el primer valor: \"))\n",
        "  v = float(input(\"dame el segundo valor: \"))\n",
        "  print(\"es: \",j*v)\n",
        "elif n == \"d\":\n",
        "  j = float(input(\"dame el primer valor: \"))\n",
        "  v = float(input(\"dame el segundo valor: \"))\n",
        "  while v == 0:\n",
        "    print(\"el divisor no puede ser 0\")\n",
        "    v = float(input(\"dame el segundo valor: \"))\n",
        "    print(\"es:\",j/v)\n",
        "\n"
      ],
      "execution_count": 1,
      "outputs": [
        {
          "output_type": "stream",
          "text": [
            "seleccione una opcion: a = suma b = resta c = multiplicacion d = division:d\n",
            "dame el primer valor: 5\n",
            "dame el segundo valor: 0\n",
            "el divisor no puede ser 0\n",
            "dame el segundo valor: 2\n",
            "es: 2.5\n"
          ],
          "name": "stdout"
        }
      ]
    },
    {
      "cell_type": "markdown",
      "metadata": {
        "id": "mDK2FrIJUfLG"
      },
      "source": [
        "Ejercicio 5"
      ]
    },
    {
      "cell_type": "code",
      "metadata": {
        "id": "qAdBBCIQUhyx",
        "outputId": "9ce7ce27-b4d9-46ef-a485-415e19f89135",
        "colab": {
          "base_uri": "https://localhost:8080/"
        }
      },
      "source": [
        "def peso(c,d):\n",
        "  res = c + d \n",
        "  print(\"El peso es: \",res,\"g\")\n",
        "payaso = 150\n",
        "juego = 170 \n",
        "a = int(input(\"ingrese el numero de payasos: \"))\n",
        "b = int(input(\"ingrese el numero de juegos de mesas:\"))\n",
        "c = (payaso*a)\n",
        "d = (juego*b)\n",
        "peso(c,d)\n",
        "e = (-10000+(c+d))\n",
        "if c+d<=10000:\n",
        "  print(\"el pedido es correcto\")\n",
        "else:\n",
        "  print(\"se pasa por:\",e,\"g\")"
      ],
      "execution_count": null,
      "outputs": [
        {
          "output_type": "stream",
          "text": [
            "ingrese el numero de payasos: 50\n",
            "ingrese el numero de juegos de mesas:50\n",
            "El peso es:  16000 g\n",
            "se pasa por: 6000 g\n"
          ],
          "name": "stdout"
        }
      ]
    },
    {
      "cell_type": "markdown",
      "metadata": {
        "id": "5pkuhdotUimE"
      },
      "source": [
        "Ejercicio 6"
      ]
    },
    {
      "cell_type": "code",
      "metadata": {
        "id": "fZ7C59xoUmOV",
        "outputId": "50560118-61e0-4a0c-f773-ef6267416d45",
        "colab": {
          "base_uri": "https://localhost:8080/"
        }
      },
      "source": [
        "def salario(val1):\n",
        "  if val1 < 10000:\n",
        "    print(val1 - ((val1 * 5)/100))\n",
        "  if 10000 < val1 < 15000:\n",
        "    print(val1 - ((val1 * 10)/100))\n",
        "  if 15000 < val1 < 20000:\n",
        "    print(val1 - ((val1 * 15)/100))\n",
        "  if val1 > 20000:\n",
        "    print(val1 - ((val1 * 18)/100))\n",
        "v = float(input(\"ingresa tu salario: \"))\n",
        "salario(v) "
      ],
      "execution_count": null,
      "outputs": [
        {
          "output_type": "stream",
          "text": [
            "ingresa tu salario: 111151\n",
            "91143.82\n"
          ],
          "name": "stdout"
        }
      ]
    },
    {
      "cell_type": "markdown",
      "metadata": {
        "id": "zfOzDp8UUmr1"
      },
      "source": [
        "Ejercicio 7"
      ]
    },
    {
      "cell_type": "code",
      "metadata": {
        "id": "GeAzI9pPB001",
        "outputId": "9775e0e0-b386-4c99-83b9-dc9e338e6bdb",
        "colab": {
          "base_uri": "https://localhost:8080/"
        }
      },
      "source": [
        "a = [0,50,100]\n",
        "b = int(input(\"Edad: \"))\n",
        "if (b <= 4):\n",
        "  print(a[0])\n",
        "if (4 < b <= 16):\n",
        "  print(a[1])\n",
        "if (b > 16):\n",
        "  print(a[2])\n",
        "c = [10,30,50]\n",
        "c.append(0)\n",
        "d = str(input(\"tipo de credencial estudiante, docente,inapam, ninguna: \"))\n",
        "if (d == \"estudiante\"):\n",
        "  print(\"descuento es: \", ((c[0] * 50)/100))\n",
        "elif (d == \"docente\"):\n",
        "  print(\"descuento es: \",((c[1] * 100)/100))\n",
        "elif (d == \"inapam\"):\n",
        "  print(\"descuento es:\",((c[2] * 100)/100))\n",
        "elif (d == \"ninguna\"):\n",
        "  print(\"su descuento es: \",c[3])"
      ],
      "execution_count": null,
      "outputs": [
        {
          "output_type": "stream",
          "text": [
            "Edad: 15\n",
            "50\n",
            "tipo de credencial estudiante, docente,inapam, ninguna: estudiante\n",
            "descuento es:  5.0\n"
          ],
          "name": "stdout"
        }
      ]
    },
    {
      "cell_type": "markdown",
      "metadata": {
        "id": "bsfWB4LAUpsM"
      },
      "source": [
        "Ejercicio 8"
      ]
    },
    {
      "cell_type": "code",
      "metadata": {
        "id": "_984WK0nUrkT",
        "outputId": "0731c5cd-78bf-44ea-b65e-f8b89518c68a",
        "colab": {
          "base_uri": "https://localhost:8080/"
        }
      },
      "source": [
        "n = int(input(\"Introduce un numero: \"))\n",
        "for i in range(n):\n",
        "   print(\"*\"*(i+1))"
      ],
      "execution_count": null,
      "outputs": [
        {
          "output_type": "stream",
          "text": [
            "Introduce un numero: 5\n",
            "*\n",
            "**\n",
            "***\n",
            "****\n",
            "*****\n"
          ],
          "name": "stdout"
        }
      ]
    },
    {
      "cell_type": "markdown",
      "metadata": {
        "id": "FceCs6nqUsAn"
      },
      "source": [
        "Ejercicio 9"
      ]
    },
    {
      "cell_type": "code",
      "metadata": {
        "id": "ZZxkVRmDUt0t",
        "outputId": "4ba435e4-17e2-49ba-f3dc-d77477b2ba45",
        "colab": {
          "base_uri": "https://localhost:8080/"
        }
      },
      "source": [
        "def factorial(n):\n",
        "  if n==1:\n",
        "    return 1\n",
        "  else:\n",
        "    return n * factorial(n-1)\n",
        "n=int(input(\"inserte un numero:\"))\n",
        "print(factorial(n))"
      ],
      "execution_count": null,
      "outputs": [
        {
          "output_type": "stream",
          "text": [
            "inserte un numero:6\n",
            "720\n"
          ],
          "name": "stdout"
        }
      ]
    },
    {
      "cell_type": "markdown",
      "metadata": {
        "id": "ZkZSfbCnUuMo"
      },
      "source": [
        "Ejercicio 10"
      ]
    },
    {
      "cell_type": "code",
      "metadata": {
        "id": "AoaOj6eoHFee",
        "outputId": "f61603d2-1766-4bf1-9993-92b69820ffd6",
        "colab": {
          "base_uri": "https://localhost:8080/"
        }
      },
      "source": [
        "from math import pi \n",
        "def area_circulo(r):\n",
        "  area = (pi * r**2)\n",
        "  return area\n",
        "def volumen_cilindro(r,h):\n",
        "  volumen = (pi * r**2 * h)\n",
        "  return volumen \n",
        "r=float(input(\"inserte el valor del radio:\"))\n",
        "h=float(input(\"inserte el valor de la altura:\"))\n",
        "print(\"valor del area del circulo es:\",area_circulo(r))\n",
        "print(\"el valor del volumen es:\",volumen_cilindro(r,h))"
      ],
      "execution_count": null,
      "outputs": [
        {
          "output_type": "stream",
          "text": [
            "inserte el valor del radio:4\n",
            "inserte el valor de la altura:5\n",
            "valor del area del circulo es: 50.26548245743669\n",
            "el valor del volumen es: 251.32741228718345\n"
          ],
          "name": "stdout"
        }
      ]
    }
  ]
}